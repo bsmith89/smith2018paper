{
 "cells": [
  {
   "cell_type": "markdown",
   "metadata": {},
   "source": [
    "# Notebook Setup"
   ]
  },
  {
   "cell_type": "code",
   "execution_count": null,
   "metadata": {},
   "outputs": [],
   "source": [
    "import pandas as pd\n",
    "import numpy as np\n",
    "import scipy as sp\n",
    "import matplotlib.pyplot as plt\n",
    "import statsmodels.formula.api as sm\n",
    "import sqlite3\n",
    "import seaborn as sns\n",
    "import patsy\n",
    "from sklearn.decomposition import PCA\n",
    "from lifelines import KaplanMeierFitter\n",
    "from matplotlib.ticker import StrMethodFormatter\n",
    "from statsmodels.stats.multitest import fdrcorrection\n",
    "\n",
    "import rpy2.ipython\n",
    "%load_ext rpy2.ipython.rmagic\n",
    "\n",
    "from scripts.lib.stats import raise_low, lrt_phreg, phreg_aic\n",
    "from scripts.lib.plotting import boxplot_with_points, load_style"
   ]
  },
  {
   "cell_type": "code",
   "execution_count": null,
   "metadata": {},
   "outputs": [],
   "source": [
    "%%R\n",
    "\n",
    "library('survival')\n",
    "library(\"survminer\")\n",
    "\n",
    "stnd = function(x){\n",
    "    return((x - mean(x)) / sd(x))\n",
    "    }"
   ]
  },
  {
   "cell_type": "code",
   "execution_count": null,
   "metadata": {},
   "outputs": [],
   "source": [
    "loaded_style = load_style('paper')\n",
    "\n",
    "color_map = loaded_style['color_map']\n",
    "mark_map = loaded_style['mark_map']\n",
    "assign_significance_symbol = loaded_style['assign_significance_symbol']\n",
    "savefig = loaded_style['savefig']\n",
    "fullwidth = loaded_style['fullwidth']\n",
    "halfwidth = loaded_style['halfwidth']"
   ]
  },
  {
   "cell_type": "code",
   "execution_count": null,
   "metadata": {},
   "outputs": [],
   "source": [
    "from scripts.lib.data import load_data\n",
    "loaded_data = load_data('res/C2013.results.db')\n",
    "gl = globals()\n",
    "gl.update(loaded_data)\n",
    "\n",
    "print(loaded_data.keys())"
   ]
  },
  {
   "cell_type": "markdown",
   "metadata": {},
   "source": [
    "# Comparison to the full population."
   ]
  },
  {
   "cell_type": "raw",
   "metadata": {},
   "source": [
    "# FIXME: This code will not work as expected with the publicly available dataset\n",
    "\n",
    "data = (mouse[  mouse.cohort.isin(['C2013'])\n",
    "              & mouse.treatment.isin(['control', 'acarbose'])\n",
    "              & mouse.site.isin(['UM', 'UT', 'TJL'])\n",
    "             ]\n",
    "             .join(conc)\n",
    "             .dropna(subset=['age_at_death_or_censor'])\n",
    "#             .sample(frac=1, replace=True)  # If I want to check a few bootstrap samples...\n",
    "       )[['cohort', 'sex', 'treatment', 'site', 'age_at_death_or_censor', 'dead']]\n",
    "data.dead = data.dead.astype(int)\n",
    "\n",
    "data.groupby(['cohort', 'site', 'sex', 'treatment']).age_at_death_or_censor.apply(lambda x: x.notnull().count())"
   ]
  },
  {
   "cell_type": "raw",
   "metadata": {},
   "source": [
    "%%R -i data\n",
    "# FIXME: This code will not work as expected with the publicly available dataset\n",
    "\n",
    "data$treatment = factor(data$treatment, levels=c('control', 'acarbose'))\n",
    "data$sex = factor(data$sex, levels=c('male', 'female'))\n",
    "data$site = factor(data$site, levels=c('UT', 'TJL', 'UM'))\n",
    "\n",
    "fit0 = coxph(Surv(age_at_death_or_censor, data$dead) ~\n",
    "                 treatment * sex * site,\n",
    "            data=data)\n",
    "\n",
    "print(fit0)\n",
    "print(anova(fit0))"
   ]
  },
  {
   "cell_type": "markdown",
   "metadata": {},
   "source": [
    "# Null model"
   ]
  },
  {
   "cell_type": "code",
   "execution_count": null,
   "metadata": {},
   "outputs": [],
   "source": [
    "data = (mouse[  mouse.cohort.isin(['C2013'])\n",
    "              & mouse.treatment.isin(['control', 'acarbose'])\n",
    "              & mouse.site.isin(['UM', 'UT', 'TJL'])\n",
    "             ]\n",
    "             .join(conc)\n",
    "             .dropna(subset=['age_at_death_or_censor', 'age_at_collect', 'butyrate'])\n",
    "            [['cohort', 'sex', 'treatment', 'site',\n",
    "              'age_at_collect', 'age_at_death_or_censor', 'dead',\n",
    "              'propionate', 'butyrate', 'acetate']]\n",
    "#             .sample(frac=1, replace=True)  # If I want to check a few bootstrap samples...\n",
    "       )\n",
    "data.dead = data.dead.astype(int)\n",
    "\n",
    "data.groupby(['cohort', 'site', 'sex', 'treatment']).age_at_death_or_censor.apply(lambda x: x.notnull().count())"
   ]
  },
  {
   "cell_type": "code",
   "execution_count": null,
   "metadata": {},
   "outputs": [],
   "source": [
    "%%R -i data\n",
    "\n",
    "data$treatment = factor(data$treatment, levels=c('control', 'acarbose'))\n",
    "data$sex = factor(data$sex, levels=c('male', 'female'))\n",
    "data$site = factor(data$site, levels=c('UT', 'UM'))\n",
    "\n",
    "fit1 = coxph(Surv(age_at_collect, age_at_death_or_censor, data$dead) ~\n",
    "                 treatment * sex * site,\n",
    "            data=data)\n",
    "\n",
    "print(fit1)\n",
    "print(anova(fit1))"
   ]
  },
  {
   "cell_type": "markdown",
   "metadata": {},
   "source": [
    "The survival data we collected trends towards many of the known features of survival in the ITP study.\n",
    "-   Acarbose trends towards increasing longevity in both male and female mice (less so in the latter).\n",
    "-   Female control mice live longer than male mice at UT, but not at UM. (In our control sample, male mice at UM live longer than their female counterparts.)\n",
    "-   Control, male mice live longer at UM than at UT (this effect is significant)."
   ]
  },
  {
   "cell_type": "markdown",
   "metadata": {},
   "source": [
    "The significance of treatment sex and site are all significant or nearly so."
   ]
  },
  {
   "cell_type": "markdown",
   "metadata": {},
   "source": [
    "# SCFAs as predictors"
   ]
  },
  {
   "cell_type": "markdown",
   "metadata": {},
   "source": [
    "## Analysis of individual SCFAs"
   ]
  },
  {
   "cell_type": "code",
   "execution_count": null,
   "metadata": {},
   "outputs": [],
   "source": [
    "%%R\n",
    "\n",
    "fit_propionate = coxph(Surv(age_at_collect, age_at_death_or_censor, data$dead) ~\n",
    "                 stnd(propionate)\n",
    "                 + treatment * sex * site,\n",
    "            data=data)\n",
    "\n",
    "summary(fit_propionate)"
   ]
  },
  {
   "cell_type": "code",
   "execution_count": null,
   "metadata": {},
   "outputs": [],
   "source": [
    "%%R\n",
    "\n",
    "fit_butyrate = coxph(Surv(age_at_collect, age_at_death_or_censor, data$dead) ~\n",
    "                 stnd(butyrate)\n",
    "                 + treatment * sex * site,\n",
    "            data=data)\n",
    "\n",
    "summary(fit_butyrate)"
   ]
  },
  {
   "cell_type": "code",
   "execution_count": null,
   "metadata": {},
   "outputs": [],
   "source": [
    "%%R\n",
    "\n",
    "fit_acetate = coxph(Surv(age_at_collect, age_at_death_or_censor, data$dead) ~\n",
    "                 stnd(acetate)\n",
    "                 + treatment * sex * site,\n",
    "            data=data)\n",
    "\n",
    "summary(fit_acetate)"
   ]
  },
  {
   "cell_type": "markdown",
   "metadata": {},
   "source": [
    "## Joint SCFA Analysis"
   ]
  },
  {
   "cell_type": "code",
   "execution_count": null,
   "metadata": {},
   "outputs": [],
   "source": [
    "%%R\n",
    "\n",
    "fit2 = coxph(Surv(age_at_collect, age_at_death_or_censor, data$dead) ~\n",
    "                 stnd(propionate) + stnd(butyrate) + stnd(acetate)\n",
    "                 + treatment * sex * site,\n",
    "            data=data)\n",
    "\n",
    "summary(fit2)"
   ]
  },
  {
   "cell_type": "markdown",
   "metadata": {},
   "source": [
    "Notice that the acarbose effect disappeared (consistent with an effect mediated by SCFAs)."
   ]
  },
  {
   "cell_type": "code",
   "execution_count": null,
   "metadata": {},
   "outputs": [],
   "source": [
    "%%R\n",
    "\n",
    "anova(fit2)"
   ]
  },
  {
   "cell_type": "code",
   "execution_count": null,
   "metadata": {},
   "outputs": [],
   "source": [
    "%%R\n",
    "\n",
    "anova(fit1, fit2)"
   ]
  },
  {
   "cell_type": "markdown",
   "metadata": {},
   "source": [
    "Including SCFA information improves the fit of the model by a likelihood ratio test."
   ]
  },
  {
   "cell_type": "code",
   "execution_count": null,
   "metadata": {},
   "outputs": [],
   "source": [
    "%%R\n",
    "\n",
    "# Can we make a better null model and then compare the SCFA-included model to that one?\n",
    "# What about if we use pseudo-iterative regression to make both models as good as possible?\n",
    "\n",
    "fit_minimal_design = coxph(Surv(age_at_collect, age_at_death_or_censor, data$dead) ~\n",
    "                 site * sex + treatment,\n",
    "                    data=data)\n",
    "\n",
    "fit_minimal_scfa = coxph(Surv(age_at_collect, age_at_death_or_censor, data$dead) ~\n",
    "                 stnd(propionate) + stnd(butyrate) + stnd(acetate) + site * sex,\n",
    "                    data=data)\n",
    "\n",
    "AIC(fit_minimal_design, fit_minimal_scfa)"
   ]
  },
  {
   "cell_type": "markdown",
   "metadata": {},
   "source": [
    "### Check Model Assumptions"
   ]
  },
  {
   "cell_type": "code",
   "execution_count": null,
   "metadata": {},
   "outputs": [],
   "source": [
    "%%R\n",
    "\n",
    "phtest2 = cox.zph(fit2, global=TRUE)\n",
    "print(phtest2)\n",
    "plot(phtest2)"
   ]
  },
  {
   "cell_type": "markdown",
   "metadata": {},
   "source": [
    "None of the design parameters show evidence of deviation from\n",
    "proportionality assumptions."
   ]
  },
  {
   "cell_type": "code",
   "execution_count": null,
   "metadata": {},
   "outputs": [],
   "source": [
    "%%R\n",
    "fit2_coxdiag_plots = ggcoxdiagnostics(fit2, type='deviance', linear.predictions=TRUE, sline=FALSE)\n",
    "\n",
    "png('fig/phreg_residuals.png', width=4, height=4, units='in', res=72)\n",
    "print(fit2_coxdiag_plots)\n",
    "dev.off()\n",
    "pdf('fig/phreg_residuals.pdf', width=4, height=4)\n",
    "print(fit2_coxdiag_plots)\n",
    "dev.off()\n",
    "\n",
    "print(fit2_coxdiag_plots)\n",
    "\n",
    "#dev.copy(png,'myplot.png')\n",
    "#save.plot('fig/phreg_residuals.png')"
   ]
  },
  {
   "cell_type": "markdown",
   "metadata": {},
   "source": [
    "Little evidence of deviations from the linearity assumption."
   ]
  },
  {
   "cell_type": "markdown",
   "metadata": {},
   "source": [
    "### Check Extreme Points\n",
    "\n",
    "There are two individuals for which longevity predictions are extreme (left-most and right-most points).\n",
    "We can try to remove these points to check that they aren't overly influential."
   ]
  },
  {
   "cell_type": "code",
   "execution_count": null,
   "metadata": {},
   "outputs": [],
   "source": [
    "%%R\n",
    "\n",
    "extreme_predictions = c(which.min(predict(fit2)), which.max(predict(fit2)))\n",
    "print(extreme_predictions)"
   ]
  },
  {
   "cell_type": "code",
   "execution_count": null,
   "metadata": {},
   "outputs": [],
   "source": [
    "%%R\n",
    "\n",
    "data1 = data[-extreme_predictions,]\n",
    "\n",
    "fit3 = coxph(Surv(age_at_collect, age_at_death_or_censor, data1$dead) ~\n",
    "                 propionate + butyrate + acetate\n",
    "                 + treatment * sex * site,\n",
    "            data=data1)\n",
    "\n",
    "print(fit3)"
   ]
  },
  {
   "cell_type": "markdown",
   "metadata": {},
   "source": [
    "While the p-value for the acetate coefficient is no longer\n",
    "less than 0.05, all coefficients are nearly identical."
   ]
  },
  {
   "cell_type": "markdown",
   "metadata": {},
   "source": [
    " (Plots of Schoenfeld residuals.)"
   ]
  },
  {
   "cell_type": "code",
   "execution_count": null,
   "metadata": {},
   "outputs": [],
   "source": [
    "%%R\n",
    "\n",
    "ggcoxdiagnostics(fit3, type='deviance', linear.predictions=TRUE)"
   ]
  },
  {
   "cell_type": "markdown",
   "metadata": {},
   "source": [
    "No evidence of deviation from linearity assumptions, nor highly influential outliers."
   ]
  },
  {
   "cell_type": "markdown",
   "metadata": {},
   "source": [
    "### Log-transformed SCFAs\n",
    "\n",
    "Potential lessens the effects of (not-demonstrated) non-linearity or outliers."
   ]
  },
  {
   "cell_type": "code",
   "execution_count": null,
   "metadata": {},
   "outputs": [],
   "source": [
    "%%R\n",
    "\n",
    "fit4 = coxph(Surv(age_at_collect, age_at_death_or_censor, data$dead) ~\n",
    "                 log(propionate) + log(butyrate) + log(acetate)\n",
    "                 + treatment * sex * site,\n",
    "            data=data)\n",
    "\n",
    "print(fit4)"
   ]
  },
  {
   "cell_type": "markdown",
   "metadata": {},
   "source": [
    "Log-transformed SCFAs aren't predictive (except propionate)"
   ]
  },
  {
   "cell_type": "markdown",
   "metadata": {},
   "source": [
    "### PCA of SCFAs"
   ]
  },
  {
   "cell_type": "code",
   "execution_count": null,
   "metadata": {},
   "outputs": [],
   "source": [
    "%%R\n",
    "\n",
    "pca_fit = princomp(~ stnd(propionate) + stnd(butyrate) + stnd(acetate), data=data)\n",
    "data2 = cbind(data, predict(pca_fit))\n",
    "\n",
    "print(loadings(pca_fit))\n",
    "plot(pca_fit)"
   ]
  },
  {
   "cell_type": "markdown",
   "metadata": {},
   "source": [
    "It would appear that the concentrations of SCFAs can be described with\n",
    "-   a high SCFAs component (-PC1),\n",
    "-   a high propionate + lower everything else component (PC2),\n",
    "-   and a high butyrate + low acetate component (-PC3)."
   ]
  },
  {
   "cell_type": "code",
   "execution_count": null,
   "metadata": {},
   "outputs": [],
   "source": [
    "%%R\n",
    "\n",
    "fit1_pca = coxph(Surv(age_at_collect, age_at_death_or_censor, data2$dead) ~\n",
    "                 Comp.1 + Comp.2 + Comp.3\n",
    "                 + treatment * sex * site,\n",
    "            data=data2)\n",
    "\n",
    "print(fit1_pca)"
   ]
  },
  {
   "cell_type": "markdown",
   "metadata": {},
   "source": [
    "The high total SCFA component and the high acetate components are associated with\n",
    "decreased longevity, while the high propionate component is associated with increased\n",
    "survival.\n",
    "\n",
    "Is this a worthwhile analysis?  Probably not."
   ]
  },
  {
   "cell_type": "markdown",
   "metadata": {},
   "source": [
    "# Effect Size in Context?"
   ]
  },
  {
   "cell_type": "code",
   "execution_count": null,
   "metadata": {},
   "outputs": [],
   "source": [
    "d = data[data.sex.isin(['male']) & data.treatment.isin(['acarbose']) & data.site.isin(['UM'])]\n",
    "mouseA, colorA = 'UM45080', 'darkred'\n",
    "mouseB, colorB = 'UM46249', 'darkblue'\n",
    "\n",
    "fig, axs = plt.subplots(1, 2, figsize=(6, 2.5))\n",
    "\n",
    "art = axs[1].scatter('butyrate', 'propionate', c='acetate', data=d, edgecolor='black', linewidth=0.5, cmap='gray_r')\n",
    "fig.colorbar(art, label='acetate')\n",
    "axs[1].set_xlabel('butyrate')\n",
    "axs[1].set_ylabel('propionate')\n",
    "axs[1].scatter([d.butyrate[mouseA]], [d.propionate[mouseA]], marker='o',\n",
    "               color=colorA, s=100, lw=0.75, label='Mouse A', facecolors='none')\n",
    "axs[1].scatter([d.butyrate[mouseB]], [d.propionate[mouseB]], marker='o',\n",
    "               color=colorB, s=100, lw=0.75, label='Mouse B', facecolors='none')\n",
    "\n",
    "d_subset_data = d.loc[[mouseA, mouseB]]\n",
    "\n",
    "en, ex = patsy.dmatrices(('age_at_death_or_censor ~ 1'\n",
    "                               ' + C(treatment, Treatment(\"control\"))'\n",
    "                               ' * C(sex, Treatment(\"female\"))'\n",
    "                               ' * C(site, Treatment(\"UM\"))'\n",
    "                               ' + propionate '\n",
    "                               ' + butyrate'\n",
    "                               ' + acetate'\n",
    "                              ),\n",
    "                              data=data, NA_action='raise')\n",
    "endog_di, exog_di = en.design_info, ex.design_info\n",
    "ex = patsy.build_design_matrices([exog_di], data=data,\n",
    "                                 return_type='dataframe',\n",
    "                                 NA_action='raise')[0].drop('Intercept', axis='columns')\n",
    "\n",
    "\n",
    "fit = sm.PHReg(en, ex, status=data.dead, entry=data.age_at_collect).fit()\n",
    "\n",
    "\n",
    "design = patsy.build_design_matrices([exog_di], data=d_subset_data,\n",
    "                                     return_type='dataframe',\n",
    "                                     NA_action='raise')[0].drop('Intercept', axis='columns')\n",
    "\n",
    "\n",
    "mouseA_logHR = fit.predict(exog=design).predicted_values[0]\n",
    "mouseA_logHR_min = mouseA_logHR + 1 * fit.predict(exog=design).standard_errors[0]\n",
    "mouseA_logHR_max = mouseA_logHR - 1 * fit.predict(exog=design).standard_errors[0]\n",
    "\n",
    "mouseB_logHR = fit.predict(exog=design).predicted_values[1]\n",
    "mouseB_logHR_min = mouseB_logHR + 1 * fit.predict(exog=design).standard_errors[1]\n",
    "mouseB_logHR_max = mouseB_logHR - 1 * fit.predict(exog=design).standard_errors[1]\n",
    "\n",
    "\n",
    "\n",
    "times, hazards, survival = fit.baseline_cumulative_hazard[0]\n",
    "assert np.all(hazards == fit.baseline_cumulative_hazard_function[0](times))\n",
    "\n",
    "hazard_to_survival = lambda hazard: np.exp(-hazard.cumsum())\n",
    "axs[0].plot(times, hazard_to_survival(hazards * np.exp(mouseA_logHR)),\n",
    "            color=colorA, drawstyle='steps')\n",
    "#axs[0].fill_between(times,\n",
    "#                    hazard_to_survival(hazards * np.exp(mouseA_logHR_min)),\n",
    "#                    hazard_to_survival(hazards * np.exp(mouseA_logHR_max)),\n",
    "#                    color=colorA, alpha=0.2, step='pre')\n",
    "axs[0].plot(times, hazard_to_survival(hazards * np.exp(mouseB_logHR)),\n",
    "            color=colorB, drawstyle='steps')\n",
    "#axs[0].fill_between(times,\n",
    "#                    hazard_to_survival(hazards * np.exp(mouseB_logHR_min)),\n",
    "#                    hazard_to_survival(hazards * np.exp(mouseB_logHR_max)),\n",
    "#                    color=colorB, alpha=0.2, step='pre')\n",
    "axs[0].set_xlabel('days')\n",
    "axs[0].set_ylabel('survival')\n",
    "\n",
    "d_subset_data[['acetate', 'butyrate', 'propionate', 'age_at_death_or_censor']]\n",
    "\n",
    "for panel, ax in zip(['A', 'B'], axs):\n",
    "    ax.annotate(panel, xy=(0.02, 1.03), xycoords='axes fraction', fontweight='heavy')\n",
    "\n",
    "\n",
    "#fig.tight_layout()\n",
    "savefig(fig, 'fig/survival_predict')"
   ]
  },
  {
   "cell_type": "code",
   "execution_count": null,
   "metadata": {},
   "outputs": [],
   "source": [
    "np.exp(mouseA_logHR - mouseB_logHR)"
   ]
  },
  {
   "cell_type": "code",
   "execution_count": null,
   "metadata": {},
   "outputs": [],
   "source": [
    "d_subset_data[['butyrate', 'propionate', 'acetate', 'age_at_collect', 'age_at_death_or_censor']]"
   ]
  },
  {
   "cell_type": "code",
   "execution_count": null,
   "metadata": {},
   "outputs": [],
   "source": [
    "for hr in [mouseA_logHR, mouseB_logHR]:\n",
    "    print(times[np.abs(hazard_to_survival(hazards * np.exp(hr)) - 0.5).argmin()])"
   ]
  }
 ],
 "metadata": {
  "kernelspec": {
   "display_name": "Python 3",
   "language": "python",
   "name": "python3"
  },
  "language_info": {
   "codemirror_mode": {
    "name": "ipython",
    "version": 3
   },
   "file_extension": ".py",
   "mimetype": "text/x-python",
   "name": "python",
   "nbconvert_exporter": "python",
   "pygments_lexer": "ipython3",
   "version": "3.6.4"
  },
  "toc": {
   "nav_menu": {},
   "number_sections": true,
   "sideBar": true,
   "skip_h1_title": false,
   "title_cell": "Table of Contents",
   "title_sidebar": "Contents",
   "toc_cell": false,
   "toc_position": {
    "height": "calc(100% - 180px)",
    "left": "10px",
    "top": "150px",
    "width": "194px"
   },
   "toc_section_display": true,
   "toc_window_display": true
  }
 },
 "nbformat": 4,
 "nbformat_minor": 2
}